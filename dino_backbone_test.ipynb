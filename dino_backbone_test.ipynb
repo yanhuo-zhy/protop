{
 "cells": [
  {
   "cell_type": "code",
   "execution_count": 1,
   "metadata": {},
   "outputs": [
    {
     "name": "stderr",
     "output_type": "stream",
     "text": [
      "/root/miniconda3/envs/llama/lib/python3.10/site-packages/tqdm/auto.py:21: TqdmWarning: IProgress not found. Please update jupyter and ipywidgets. See https://ipywidgets.readthedocs.io/en/stable/user_install.html\n",
      "  from .autonotebook import tqdm as notebook_tqdm\n"
     ]
    },
    {
     "ename": "RuntimeError",
     "evalue": "Error(s) in loading state_dict for VisionTransformer:\n\tMissing key(s) in state_dict: \"cls_token\", \"pos_embed\", \"patch_embed.proj.weight\", \"patch_embed.proj.bias\", \"blocks.0.norm1.weight\", \"blocks.0.norm1.bias\", \"blocks.0.attn.qkv.weight\", \"blocks.0.attn.qkv.bias\", \"blocks.0.attn.proj.weight\", \"blocks.0.attn.proj.bias\", \"blocks.0.norm2.weight\", \"blocks.0.norm2.bias\", \"blocks.0.mlp.fc1.weight\", \"blocks.0.mlp.fc1.bias\", \"blocks.0.mlp.fc2.weight\", \"blocks.0.mlp.fc2.bias\", \"blocks.1.norm1.weight\", \"blocks.1.norm1.bias\", \"blocks.1.attn.qkv.weight\", \"blocks.1.attn.qkv.bias\", \"blocks.1.attn.proj.weight\", \"blocks.1.attn.proj.bias\", \"blocks.1.norm2.weight\", \"blocks.1.norm2.bias\", \"blocks.1.mlp.fc1.weight\", \"blocks.1.mlp.fc1.bias\", \"blocks.1.mlp.fc2.weight\", \"blocks.1.mlp.fc2.bias\", \"blocks.2.norm1.weight\", \"blocks.2.norm1.bias\", \"blocks.2.attn.qkv.weight\", \"blocks.2.attn.qkv.bias\", \"blocks.2.attn.proj.weight\", \"blocks.2.attn.proj.bias\", \"blocks.2.norm2.weight\", \"blocks.2.norm2.bias\", \"blocks.2.mlp.fc1.weight\", \"blocks.2.mlp.fc1.bias\", \"blocks.2.mlp.fc2.weight\", \"blocks.2.mlp.fc2.bias\", \"blocks.3.norm1.weight\", \"blocks.3.norm1.bias\", \"blocks.3.attn.qkv.weight\", \"blocks.3.attn.qkv.bias\", \"blocks.3.attn.proj.weight\", \"blocks.3.attn.proj.bias\", \"blocks.3.norm2.weight\", \"blocks.3.norm2.bias\", \"blocks.3.mlp.fc1.weight\", \"blocks.3.mlp.fc1.bias\", \"blocks.3.mlp.fc2.weight\", \"blocks.3.mlp.fc2.bias\", \"blocks.4.norm1.weight\", \"blocks.4.norm1.bias\", \"blocks.4.attn.qkv.weight\", \"blocks.4.attn.qkv.bias\", \"blocks.4.attn.proj.weight\", \"blocks.4.attn.proj.bias\", \"blocks.4.norm2.weight\", \"blocks.4.norm2.bias\", \"blocks.4.mlp.fc1.weight\", \"blocks.4.mlp.fc1.bias\", \"blocks.4.mlp.fc2.weight\", \"blocks.4.mlp.fc2.bias\", \"blocks.5.norm1.weight\", \"blocks.5.norm1.bias\", \"blocks.5.attn.qkv.weight\", \"blocks.5.attn.qkv.bias\", \"blocks.5.attn.proj.weight\", \"blocks.5.attn.proj.bias\", \"blocks.5.norm2.weight\", \"blocks.5.norm2.bias\", \"blocks.5.mlp.fc1.weight\", \"blocks.5.mlp.fc1.bias\", \"blocks.5.mlp.fc2.weight\", \"blocks.5.mlp.fc2.bias\", \"blocks.6.norm1.weight\", \"blocks.6.norm1.bias\", \"blocks.6.attn.qkv.weight\", \"blocks.6.attn.qkv.bias\", \"blocks.6.attn.proj.weight\", \"blocks.6.attn.proj.bias\", \"blocks.6.norm2.weight\", \"blocks.6.norm2.bias\", \"blocks.6.mlp.fc1.weight\", \"blocks.6.mlp.fc1.bias\", \"blocks.6.mlp.fc2.weight\", \"blocks.6.mlp.fc2.bias\", \"blocks.7.norm1.weight\", \"blocks.7.norm1.bias\", \"blocks.7.attn.qkv.weight\", \"blocks.7.attn.qkv.bias\", \"blocks.7.attn.proj.weight\", \"blocks.7.attn.proj.bias\", \"blocks.7.norm2.weight\", \"blocks.7.norm2.bias\", \"blocks.7.mlp.fc1.weight\", \"blocks.7.mlp.fc1.bias\", \"blocks.7.mlp.fc2.weight\", \"blocks.7.mlp.fc2.bias\", \"blocks.8.norm1.weight\", \"blocks.8.norm1.bias\", \"blocks.8.attn.qkv.weight\", \"blocks.8.attn.qkv.bias\", \"blocks.8.attn.proj.weight\", \"blocks.8.attn.proj.bias\", \"blocks.8.norm2.weight\", \"blocks.8.norm2.bias\", \"blocks.8.mlp.fc1.weight\", \"blocks.8.mlp.fc1.bias\", \"blocks.8.mlp.fc2.weight\", \"blocks.8.mlp.fc2.bias\", \"blocks.9.norm1.weight\", \"blocks.9.norm1.bias\", \"blocks.9.attn.qkv.weight\", \"blocks.9.attn.qkv.bias\", \"blocks.9.attn.proj.weight\", \"blocks.9.attn.proj.bias\", \"blocks.9.norm2.weight\", \"blocks.9.norm2.bias\", \"blocks.9.mlp.fc1.weight\", \"blocks.9.mlp.fc1.bias\", \"blocks.9.mlp.fc2.weight\", \"blocks.9.mlp.fc2.bias\", \"blocks.10.norm1.weight\", \"blocks.10.norm1.bias\", \"blocks.10.attn.qkv.weight\", \"blocks.10.attn.qkv.bias\", \"blocks.10.attn.proj.weight\", \"blocks.10.attn.proj.bias\", \"blocks.10.norm2.weight\", \"blocks.10.norm2.bias\", \"blocks.10.mlp.fc1.weight\", \"blocks.10.mlp.fc1.bias\", \"blocks.10.mlp.fc2.weight\", \"blocks.10.mlp.fc2.bias\", \"blocks.11.norm1.weight\", \"blocks.11.norm1.bias\", \"blocks.11.attn.qkv.weight\", \"blocks.11.attn.qkv.bias\", \"blocks.11.attn.proj.weight\", \"blocks.11.attn.proj.bias\", \"blocks.11.norm2.weight\", \"blocks.11.norm2.bias\", \"blocks.11.mlp.fc1.weight\", \"blocks.11.mlp.fc1.bias\", \"blocks.11.mlp.fc2.weight\", \"blocks.11.mlp.fc2.bias\", \"norm.weight\", \"norm.bias\". \n\tUnexpected key(s) in state_dict: \"epoch\", \"accuracy\", \"model\". ",
     "output_type": "error",
     "traceback": [
      "\u001b[0;31m---------------------------------------------------------------------------\u001b[0m",
      "\u001b[0;31mRuntimeError\u001b[0m                              Traceback (most recent call last)",
      "Cell \u001b[0;32mIn[1], line 6\u001b[0m\n\u001b[1;32m      4\u001b[0m backbone \u001b[38;5;241m=\u001b[39m vit_base()\n\u001b[1;32m      5\u001b[0m \u001b[38;5;66;03m# backbone.load_state_dict(torch.load('/wang_hp/zhy/gcd-task/pretrained/DINO/dino_vitbase16_pretrain.pth'))\u001b[39;00m\n\u001b[0;32m----> 6\u001b[0m \u001b[43mbackbone\u001b[49m\u001b[38;5;241;43m.\u001b[39;49m\u001b[43mload_state_dict\u001b[49m\u001b[43m(\u001b[49m\u001b[43mtorch\u001b[49m\u001b[38;5;241;43m.\u001b[39;49m\u001b[43mload\u001b[49m\u001b[43m(\u001b[49m\u001b[38;5;124;43m'\u001b[39;49m\u001b[38;5;124;43m/wang_hp/zhy/Download/deit_base_patch16_224-b5f2ef4d.pth\u001b[39;49m\u001b[38;5;124;43m'\u001b[39;49m\u001b[43m)\u001b[49m\u001b[43m)\u001b[49m\n",
      "File \u001b[0;32m~/miniconda3/envs/llama/lib/python3.10/site-packages/torch/nn/modules/module.py:1604\u001b[0m, in \u001b[0;36mModule.load_state_dict\u001b[0;34m(self, state_dict, strict)\u001b[0m\n\u001b[1;32m   1599\u001b[0m         error_msgs\u001b[38;5;241m.\u001b[39minsert(\n\u001b[1;32m   1600\u001b[0m             \u001b[38;5;241m0\u001b[39m, \u001b[38;5;124m'\u001b[39m\u001b[38;5;124mMissing key(s) in state_dict: \u001b[39m\u001b[38;5;132;01m{}\u001b[39;00m\u001b[38;5;124m. \u001b[39m\u001b[38;5;124m'\u001b[39m\u001b[38;5;241m.\u001b[39mformat(\n\u001b[1;32m   1601\u001b[0m                 \u001b[38;5;124m'\u001b[39m\u001b[38;5;124m, \u001b[39m\u001b[38;5;124m'\u001b[39m\u001b[38;5;241m.\u001b[39mjoin(\u001b[38;5;124m'\u001b[39m\u001b[38;5;124m\"\u001b[39m\u001b[38;5;132;01m{}\u001b[39;00m\u001b[38;5;124m\"\u001b[39m\u001b[38;5;124m'\u001b[39m\u001b[38;5;241m.\u001b[39mformat(k) \u001b[38;5;28;01mfor\u001b[39;00m k \u001b[38;5;129;01min\u001b[39;00m missing_keys)))\n\u001b[1;32m   1603\u001b[0m \u001b[38;5;28;01mif\u001b[39;00m \u001b[38;5;28mlen\u001b[39m(error_msgs) \u001b[38;5;241m>\u001b[39m \u001b[38;5;241m0\u001b[39m:\n\u001b[0;32m-> 1604\u001b[0m     \u001b[38;5;28;01mraise\u001b[39;00m \u001b[38;5;167;01mRuntimeError\u001b[39;00m(\u001b[38;5;124m'\u001b[39m\u001b[38;5;124mError(s) in loading state_dict for \u001b[39m\u001b[38;5;132;01m{}\u001b[39;00m\u001b[38;5;124m:\u001b[39m\u001b[38;5;130;01m\\n\u001b[39;00m\u001b[38;5;130;01m\\t\u001b[39;00m\u001b[38;5;132;01m{}\u001b[39;00m\u001b[38;5;124m'\u001b[39m\u001b[38;5;241m.\u001b[39mformat(\n\u001b[1;32m   1605\u001b[0m                        \u001b[38;5;28mself\u001b[39m\u001b[38;5;241m.\u001b[39m\u001b[38;5;18m__class__\u001b[39m\u001b[38;5;241m.\u001b[39m\u001b[38;5;18m__name__\u001b[39m, \u001b[38;5;124m\"\u001b[39m\u001b[38;5;130;01m\\n\u001b[39;00m\u001b[38;5;130;01m\\t\u001b[39;00m\u001b[38;5;124m\"\u001b[39m\u001b[38;5;241m.\u001b[39mjoin(error_msgs)))\n\u001b[1;32m   1606\u001b[0m \u001b[38;5;28;01mreturn\u001b[39;00m _IncompatibleKeys(missing_keys, unexpected_keys)\n",
      "\u001b[0;31mRuntimeError\u001b[0m: Error(s) in loading state_dict for VisionTransformer:\n\tMissing key(s) in state_dict: \"cls_token\", \"pos_embed\", \"patch_embed.proj.weight\", \"patch_embed.proj.bias\", \"blocks.0.norm1.weight\", \"blocks.0.norm1.bias\", \"blocks.0.attn.qkv.weight\", \"blocks.0.attn.qkv.bias\", \"blocks.0.attn.proj.weight\", \"blocks.0.attn.proj.bias\", \"blocks.0.norm2.weight\", \"blocks.0.norm2.bias\", \"blocks.0.mlp.fc1.weight\", \"blocks.0.mlp.fc1.bias\", \"blocks.0.mlp.fc2.weight\", \"blocks.0.mlp.fc2.bias\", \"blocks.1.norm1.weight\", \"blocks.1.norm1.bias\", \"blocks.1.attn.qkv.weight\", \"blocks.1.attn.qkv.bias\", \"blocks.1.attn.proj.weight\", \"blocks.1.attn.proj.bias\", \"blocks.1.norm2.weight\", \"blocks.1.norm2.bias\", \"blocks.1.mlp.fc1.weight\", \"blocks.1.mlp.fc1.bias\", \"blocks.1.mlp.fc2.weight\", \"blocks.1.mlp.fc2.bias\", \"blocks.2.norm1.weight\", \"blocks.2.norm1.bias\", \"blocks.2.attn.qkv.weight\", \"blocks.2.attn.qkv.bias\", \"blocks.2.attn.proj.weight\", \"blocks.2.attn.proj.bias\", \"blocks.2.norm2.weight\", \"blocks.2.norm2.bias\", \"blocks.2.mlp.fc1.weight\", \"blocks.2.mlp.fc1.bias\", \"blocks.2.mlp.fc2.weight\", \"blocks.2.mlp.fc2.bias\", \"blocks.3.norm1.weight\", \"blocks.3.norm1.bias\", \"blocks.3.attn.qkv.weight\", \"blocks.3.attn.qkv.bias\", \"blocks.3.attn.proj.weight\", \"blocks.3.attn.proj.bias\", \"blocks.3.norm2.weight\", \"blocks.3.norm2.bias\", \"blocks.3.mlp.fc1.weight\", \"blocks.3.mlp.fc1.bias\", \"blocks.3.mlp.fc2.weight\", \"blocks.3.mlp.fc2.bias\", \"blocks.4.norm1.weight\", \"blocks.4.norm1.bias\", \"blocks.4.attn.qkv.weight\", \"blocks.4.attn.qkv.bias\", \"blocks.4.attn.proj.weight\", \"blocks.4.attn.proj.bias\", \"blocks.4.norm2.weight\", \"blocks.4.norm2.bias\", \"blocks.4.mlp.fc1.weight\", \"blocks.4.mlp.fc1.bias\", \"blocks.4.mlp.fc2.weight\", \"blocks.4.mlp.fc2.bias\", \"blocks.5.norm1.weight\", \"blocks.5.norm1.bias\", \"blocks.5.attn.qkv.weight\", \"blocks.5.attn.qkv.bias\", \"blocks.5.attn.proj.weight\", \"blocks.5.attn.proj.bias\", \"blocks.5.norm2.weight\", \"blocks.5.norm2.bias\", \"blocks.5.mlp.fc1.weight\", \"blocks.5.mlp.fc1.bias\", \"blocks.5.mlp.fc2.weight\", \"blocks.5.mlp.fc2.bias\", \"blocks.6.norm1.weight\", \"blocks.6.norm1.bias\", \"blocks.6.attn.qkv.weight\", \"blocks.6.attn.qkv.bias\", \"blocks.6.attn.proj.weight\", \"blocks.6.attn.proj.bias\", \"blocks.6.norm2.weight\", \"blocks.6.norm2.bias\", \"blocks.6.mlp.fc1.weight\", \"blocks.6.mlp.fc1.bias\", \"blocks.6.mlp.fc2.weight\", \"blocks.6.mlp.fc2.bias\", \"blocks.7.norm1.weight\", \"blocks.7.norm1.bias\", \"blocks.7.attn.qkv.weight\", \"blocks.7.attn.qkv.bias\", \"blocks.7.attn.proj.weight\", \"blocks.7.attn.proj.bias\", \"blocks.7.norm2.weight\", \"blocks.7.norm2.bias\", \"blocks.7.mlp.fc1.weight\", \"blocks.7.mlp.fc1.bias\", \"blocks.7.mlp.fc2.weight\", \"blocks.7.mlp.fc2.bias\", \"blocks.8.norm1.weight\", \"blocks.8.norm1.bias\", \"blocks.8.attn.qkv.weight\", \"blocks.8.attn.qkv.bias\", \"blocks.8.attn.proj.weight\", \"blocks.8.attn.proj.bias\", \"blocks.8.norm2.weight\", \"blocks.8.norm2.bias\", \"blocks.8.mlp.fc1.weight\", \"blocks.8.mlp.fc1.bias\", \"blocks.8.mlp.fc2.weight\", \"blocks.8.mlp.fc2.bias\", \"blocks.9.norm1.weight\", \"blocks.9.norm1.bias\", \"blocks.9.attn.qkv.weight\", \"blocks.9.attn.qkv.bias\", \"blocks.9.attn.proj.weight\", \"blocks.9.attn.proj.bias\", \"blocks.9.norm2.weight\", \"blocks.9.norm2.bias\", \"blocks.9.mlp.fc1.weight\", \"blocks.9.mlp.fc1.bias\", \"blocks.9.mlp.fc2.weight\", \"blocks.9.mlp.fc2.bias\", \"blocks.10.norm1.weight\", \"blocks.10.norm1.bias\", \"blocks.10.attn.qkv.weight\", \"blocks.10.attn.qkv.bias\", \"blocks.10.attn.proj.weight\", \"blocks.10.attn.proj.bias\", \"blocks.10.norm2.weight\", \"blocks.10.norm2.bias\", \"blocks.10.mlp.fc1.weight\", \"blocks.10.mlp.fc1.bias\", \"blocks.10.mlp.fc2.weight\", \"blocks.10.mlp.fc2.bias\", \"blocks.11.norm1.weight\", \"blocks.11.norm1.bias\", \"blocks.11.attn.qkv.weight\", \"blocks.11.attn.qkv.bias\", \"blocks.11.attn.proj.weight\", \"blocks.11.attn.proj.bias\", \"blocks.11.norm2.weight\", \"blocks.11.norm2.bias\", \"blocks.11.mlp.fc1.weight\", \"blocks.11.mlp.fc1.bias\", \"blocks.11.mlp.fc2.weight\", \"blocks.11.mlp.fc2.bias\", \"norm.weight\", \"norm.bias\". \n\tUnexpected key(s) in state_dict: \"epoch\", \"accuracy\", \"model\". "
     ]
    }
   ],
   "source": [
    "from vision_transformer import vit_base\n",
    "import torch\n",
    "\n",
    "backbone = vit_base()\n",
    "# backbone.load_state_dict(torch.load('/wang_hp/zhy/gcd-task/pretrained/DINO/dino_vitbase16_pretrain.pth'))\n",
    "backbone.load_state_dict(torch.load('/wang_hp/zhy/Download/deit_base_patch16_224-b5f2ef4d.pth'))"
   ]
  },
  {
   "cell_type": "code",
   "execution_count": 6,
   "metadata": {},
   "outputs": [
    {
     "data": {
      "text/plain": [
       "768"
      ]
     },
     "execution_count": 6,
     "metadata": {},
     "output_type": "execute_result"
    }
   ],
   "source": [
    "import torch.nn as nn\n",
    "[i for i in backbone.modules() if isinstance(i, nn.Linear)][-1].out_features"
   ]
  },
  {
   "cell_type": "code",
   "execution_count": null,
   "metadata": {},
   "outputs": [],
   "source": [
    "from timm.models.vision_transformer import VisionTransformer"
   ]
  }
 ],
 "metadata": {
  "kernelspec": {
   "display_name": "llama",
   "language": "python",
   "name": "python3"
  },
  "language_info": {
   "codemirror_mode": {
    "name": "ipython",
    "version": 3
   },
   "file_extension": ".py",
   "mimetype": "text/x-python",
   "name": "python",
   "nbconvert_exporter": "python",
   "pygments_lexer": "ipython3",
   "version": "3.10.13"
  }
 },
 "nbformat": 4,
 "nbformat_minor": 2
}
